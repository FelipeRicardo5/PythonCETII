{
 "cells": [
  {
   "cell_type": "code",
   "execution_count": 45,
   "metadata": {},
   "outputs": [],
   "source": [
    "#1) Faça um Programa que peça 2 números inteiros e um número real. Calcule e mostre:\n",
    "num1 = int(input('Digite um número inteiro: ')) \n",
    "num2 = int(input('Digte mais um número para o cálculo: '))\n",
    "num_real = float(input('Agora um número real: '))"
   ]
  },
  {
   "cell_type": "code",
   "execution_count": 38,
   "metadata": {},
   "outputs": [
    {
     "name": "stdout",
     "output_type": "stream",
     "text": [
      "O produto do dobro do primeiro número:  4\n",
      "A metade do segundo número:  5.0\n",
      "A soma do produto do dobro de primeiro número e a metade do segundo é:  9.0\n"
     ]
    }
   ],
   "source": [
    "# A)O produto do dobro do primeiro com metade do segundo.\n",
    "# Não entendi se é a soma ou produto do resultado.\n",
    "prod = 2 * num1\n",
    "met = num2 / 2\n",
    "soma = met + prod\n",
    "print('O produto do dobro do primeiro número: ', prod)\n",
    "print('A metade do segundo número: ', met)  \n",
    "print('A soma do produto do dobro de primeiro número e a metade do segundo é: ', soma)"
   ]
  },
  {
   "cell_type": "code",
   "execution_count": 46,
   "metadata": {},
   "outputs": [
    {
     "name": "stdout",
     "output_type": "stream",
     "text": [
      "A soma do triplo do primeiro com o terceiro elevado ao cubo é:  131.0\n"
     ]
    }
   ],
   "source": [
    "# B)A soma do triplo do primeiro com o terceiro. o terceiro elevado ao cubo\n",
    "tri = 3 * num1\n",
    "elav = num_real ** 3\n",
    "soma2 = tri + elav\n",
    "print('A soma do triplo do primeiro com o terceiro elevado ao cubo é: ', soma2)"
   ]
  },
  {
   "cell_type": "code",
   "execution_count": 50,
   "metadata": {},
   "outputs": [
    {
     "name": "stdout",
     "output_type": "stream",
     "text": [
      "O número maior é: 5\n"
     ]
    }
   ],
   "source": [
    "# 2) Faça um Programa que peça dois números e imprima o maior deles.\n",
    "num1 = int(input('Digite um número: '))\n",
    "num2 = int(input('Digite mais um número: '))\n",
    "if num1 > num2:\n",
    "    print('O número maior é:', num1)\n",
    "else:\n",
    "    print('O número maior é:', num2)\n",
    "\n"
   ]
  },
  {
   "cell_type": "code",
   "execution_count": 52,
   "metadata": {},
   "outputs": [
    {
     "name": "stdout",
     "output_type": "stream",
     "text": [
      "Esse número é positivo!\n"
     ]
    }
   ],
   "source": [
    "# 3) Faça um Programa que peça um valor e mostre na tela se o valor é positivo ou negativo.\n",
    "num1 = float(input('Digite um número, assim, direi se é positivo ou negativo! '))\n",
    "# Optei a usar um float para uma maior amplitude na escolha do número. \n",
    "if num1 > 0:\n",
    "    print('Esse número é positivo!')\n",
    "else: \n",
    "    print('Esse número é negativo!')"
   ]
  },
  {
   "cell_type": "code",
   "execution_count": 54,
   "metadata": {},
   "outputs": [
    {
     "name": "stdout",
     "output_type": "stream",
     "text": [
      "Você foi aprovado, garotão!\n"
     ]
    }
   ],
   "source": [
    "# 4) Faça um programa para a leitura de duas notas parciais de um aluno. O programa deve calcular a média alcançada por aluno e apresentar o resultado \"Aprovado\" ou \"Reprovado\". Considere que a escola adota média 7.00.\n",
    "nota1 = float(input('Digite sua primeira nota, garotão! '))\n",
    "nota2 = float(input('Agora a segunda: '))\n",
    "mediaNota = (nota1 + nota2) / 2\n",
    "if mediaNota >= 7:\n",
    "    print('Você foi aprovado, garotão!')\n",
    "else:\n",
    "    print('Poxa garotão, você foi reprovado.')"
   ]
  },
  {
   "cell_type": "code",
   "execution_count": 56,
   "metadata": {},
   "outputs": [
    {
     "name": "stdout",
     "output_type": "stream",
     "text": [
      "O maior número é: 3.0\n"
     ]
    }
   ],
   "source": [
    "# 5)Faça um Programa que leia três números e mostre o maior deles.\n",
    "num1 = float(input('Digite um número: '))\n",
    "num2 = float(input('Digite mais um número: '))\n",
    "num3 = float(input('Digite mais um número: '))\n",
    "maior_numero = num1\n",
    "\n",
    "if num2 > maior_numero:\n",
    "    maior_numero = num2\n",
    "if num3 > maior_numero:\n",
    "    maior_numero = num3\n",
    "\n",
    "print(\"O maior número é:\", maior_numero)\n"
   ]
  }
 ],
 "metadata": {
  "kernelspec": {
   "display_name": "Python 3",
   "language": "python",
   "name": "python3"
  },
  "language_info": {
   "codemirror_mode": {
    "name": "ipython",
    "version": 3
   },
   "file_extension": ".py",
   "mimetype": "text/x-python",
   "name": "python",
   "nbconvert_exporter": "python",
   "pygments_lexer": "ipython3",
   "version": "3.11.9"
  }
 },
 "nbformat": 4,
 "nbformat_minor": 2
}
