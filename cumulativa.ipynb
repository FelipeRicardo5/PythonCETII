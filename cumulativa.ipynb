{
 "cells": [
  {
   "cell_type": "code",
   "execution_count": 56,
   "metadata": {},
   "outputs": [
    {
     "name": "stdout",
     "output_type": "stream",
     "text": [
      "a é uma vogal comparsa\n"
     ]
    }
   ],
   "source": [
    "#Criando as variáveis necessárias.\n",
    "letra = input('Digite uma letra: ')\n",
    "vogal = 'aeiouAEIOU'\n",
    "#se na letra haver algo que esta dentro de vogal ele vai printar...\n",
    "if letra in vogal:\n",
    "    print (letra, 'é uma vogal comparsa')\n",
    "else:\n",
    "    print (letra, 'é uma consoante comparsa')"
   ]
  },
  {
   "cell_type": "code",
   "execution_count": 57,
   "metadata": {},
   "outputs": [
    {
     "name": "stdout",
     "output_type": "stream",
     "text": [
      "O primeiro produto é a melhor opção colega!\n"
     ]
    }
   ],
   "source": [
    "#Criando as variáveis necessárias.\n",
    "produtoUm = float(input(\"Digite o preço do primeiro produto: \"))\n",
    "produtoDois = float(input(\"Digite o preço do segundo produto: \"))\n",
    "produtoTres = float(input(\"Digite o preço do terceiro produto: \"))\n",
    "#se o primeiro produto for maior que o segundo E o primeiro maior que o terceiro ele printar... assim sucessivamente com todos os produtos\n",
    "if produtoUm < produtoDois and produtoUm < produtoTres:\n",
    "    print('O primeiro produto é a melhor opção colega!')\n",
    "elif produtoDois < produtoUm and produtoDois < produtoTres:\n",
    "    print('O segundo produto é a melhor opção colega!')\n",
    "elif produtoTres < produtoUm and produtoTres < produtoDois:\n",
    "    print('O terceiro produto é a melhor opção colega!')\n",
    "else:\n",
    "    print('Dois ou mais produtos têm o mesmo preço.')\n"
   ]
  },
  {
   "cell_type": "code",
   "execution_count": 58,
   "metadata": {},
   "outputs": [
    {
     "name": "stdout",
     "output_type": "stream",
     "text": [
      "Números em ordem decrescente: 30.0 20.0 12.0\n"
     ]
    }
   ],
   "source": [
    "#Criando as variáveis necessárias.\n",
    "num1 = float(input(\"Digite um número\"))\n",
    "num2 = float(input(\"Digite outro número\"))\n",
    "num3 = float(input(\"Digite mais um número\"))\n",
    "\n",
    "#Criando uma condição em que, se o primeiro número for maior ou igual ao segundo e maior ou igual o terceiro, ele será o numero maior. \n",
    "#Dentro do mesmo if; se o número 2 for maior que o terceiro ele sera o numero do meio, se não o do meio será o terceiro, e o segundo o menor.\n",
    "#E assim consecutivamente.\n",
    "\n",
    "if num1 >= num2 and num1 >= num3:\n",
    "    maior = num1\n",
    "    if num2 >= num3:\n",
    "        meio = num2\n",
    "        menor = num3\n",
    "    else:\n",
    "        meio = num3\n",
    "        menor = num2\n",
    "elif num2 >= num1 and num2 >= num3:\n",
    "    maior = num2\n",
    "    if num1 >= num3:\n",
    "        meio = num1\n",
    "        menor = num3\n",
    "    else:\n",
    "        meio = num3\n",
    "        menor = num1\n",
    "else:\n",
    "    maior = num3\n",
    "    if num1 >= num2:\n",
    "        meio = num1\n",
    "        menor = num2\n",
    "    else:\n",
    "        meio = num2\n",
    "        menor = num1\n",
    "print(\"Números em ordem decrescente:\", maior, meio, menor)"
   ]
  },
  {
   "cell_type": "code",
   "execution_count": 59,
   "metadata": {},
   "outputs": [
    {
     "name": "stdout",
     "output_type": "stream",
     "text": [
      "Bom dia!\n",
      "Número inválido!\n"
     ]
    }
   ],
   "source": [
    "#Criando as variáveis necessárias com um input que vai perguntar e direcionar o usuário\n",
    "turno = input(\"Olá aluno! Qual turno você estuda? Digite M para Matutino, T para Tarde e N para noite. \")\n",
    "#se o usuário seguir de forma correta as intruções ele receberá as mensagens corretas SENÃO, numero inválido\n",
    "if turno == \"M\" or turno == \"m\":\n",
    "    print(\"Bom dia!\")\n",
    "if turno == \"N\" or turno == \"n\":\n",
    "    print(\"Boa noite!\")\n",
    "if turno == \"T\" or turno == \"t\":\n",
    "    print(\"Boa tarde!\")\n",
    "else:\n",
    "    print(\"Número inválido!\")\n"
   ]
  },
  {
   "cell_type": "code",
   "execution_count": 60,
   "metadata": {},
   "outputs": [
    {
     "name": "stdout",
     "output_type": "stream",
     "text": [
      "Número inválido\n"
     ]
    }
   ],
   "source": [
    "num = int(input(\"Digite um número: \"))\n",
    "#criando um condição pra cada número\n",
    "if num == 1:\n",
    "    print(\"domingo\")\n",
    "elif num == 2:\n",
    "    print(\"segunda-feira\")\n",
    "elif num == 3:\n",
    "    print(\"terça-feira\")\n",
    "elif num == 4:\n",
    "    print(\"quarta-feira\")\n",
    "elif num == 5:\n",
    "    print(\"quinta-feira\")\n",
    "elif num == 6:\n",
    "    print(\"sexta-feira\")\n",
    "elif num == 7:\n",
    "    print(\"sábado\")\n",
    "else:\n",
    "    print(\"Número inválido\")"
   ]
  },
  {
   "cell_type": "code",
   "execution_count": 61,
   "metadata": {},
   "outputs": [
    {
     "name": "stdout",
     "output_type": "stream",
     "text": [
      "Parabéns! seu conceito é A APROVADO 12.5\n"
     ]
    }
   ],
   "source": [
    "#Criando as variáveis necessárias.\n",
    "n1 = float(input(\"Digite sua nota na primeira prova: \"))\n",
    "n2 = float(input(\"Digite sua nota na primeira prova: \"))\n",
    "#criando o cálculo necessário.\n",
    "s = n1 + n2\n",
    "m = s / 2 \n",
    "#criando as condições nacessárias, se m que é a media for maior igual a nove OU igual a 10 \n",
    "if m >= 9 or m == 10:\n",
    "    print(\"Parabéns! seu conceito é A APROVADO\", m)\n",
    "\n",
    "elif m >= 7.5 or m == 9:\n",
    "    print(\"Parabéns! seu conceito é B APROVADO\", m)\n",
    "\n",
    "elif m >= 6 or m == 7.5:\n",
    "    print(\"Parabéns! seu conceito é C APROVADO\", m) \n",
    "    \n",
    "elif m >= 4 or m == 6:\n",
    "    print(\"Ops! seu conceito é D REPROVADO\", m)  \n",
    "\n",
    "elif m >= 0 or m == 4:\n",
    "    print(\"Ops! seu conceito é E REPROVADO\", m)   "
   ]
  },
  {
   "cell_type": "code",
   "execution_count": 62,
   "metadata": {},
   "outputs": [
    {
     "name": "stdout",
     "output_type": "stream",
     "text": [
      "2020 é um ano bissexto.\n"
     ]
    }
   ],
   "source": [
    "#Criando as variáveis necessárias.\n",
    "ano = int(input(\"Digite um ano e direi se ele é bisexto ou não!\"))\n",
    "#criando as condições necessárias, se o resto da divisão do ano pra quatro for zero E o resto da divisão por cem for DIFERENTE de zero OU o resto igual a zero print...\n",
    "if ano % 4 == 0 and ano % 100 != 0 or ano % 400 == 0:\n",
    "    print(ano, \"é um ano bissexto.\")\n",
    "else:\n",
    "    print(ano, \"não é um ano bissexto.\")"
   ]
  },
  {
   "cell_type": "code",
   "execution_count": 63,
   "metadata": {},
   "outputs": [
    {
     "name": "stdout",
     "output_type": "stream",
     "text": [
      "O resultado é ímpar: 41.0 sendo um número positivo inteiro\n"
     ]
    }
   ],
   "source": [
    "#Criando as variáveis necessárias.\n",
    "num1 = float(input(\"Digite um número\"))\n",
    "num2 = float(input(\"Digite mais um número\"))\n",
    "#Criando mais uma variável dessa vez para selecionar o tipo de operação desejada pelo usuário.\n",
    "operacaoEscolhida = str(input(\"Que tipo de operação você quer que seja feita?\"))\n",
    "#Criando as variáveis necessárias com o código para cada tipo de operação com margem de erro também.\n",
    "a = [\"soma\", \"SOMA\"]\n",
    "m = [\"multiplicacao\", \"m\", \"M\", \"multiplicação\", \"MULTIPLICAÇÃO\", \"MULTIPLICÇÃO\"]\n",
    "d = [\"DIVISÃO\", \"D\", \"divisao\", \"divisão\", \"DIVISAO\", \"d\"]\n",
    "s = [\"SUBTRAÇÃO\", \"S\", \"s\", \"subtração\", \"subtracao\", \"SUBTRACAO\"]\n",
    "e = [\"EXPONENCIACAO\", \"EXPONENCIAÇÃO\", \"E\", \"e\", \"exponenciacao\", \"exponenciação\"]\n",
    "#criando as condições necessárias, se a operação escolhida estiver em a que seria a adição, ele faz o calculo necessário de acordo com o tipo de operação escolhida \n",
    "#Criando uma condição pra descobrir se o número é positivo ou negativo.\n",
    "if operacaoEscolhida in a:\n",
    "    r = num1 + num2\n",
    "    \n",
    "    if r < 0:\n",
    "        tipo = \"negativo\"\n",
    "    else:\n",
    "        tipo = \"positivo\"\n",
    "    \n",
    "    parte_inteira = int(r)\n",
    "    if parte_inteira * 1.0 == r:\n",
    "        tipo_numero = \"inteiro\"\n",
    "    else:\n",
    "        tipo_numero = \"decimal\"\n",
    "\n",
    "    if r % 2 == 0:  \n",
    "        print(\"O resultado é par:\", r, \"sendo um número\", tipo, tipo_numero)\n",
    "    else:\n",
    "        print(\"O resultado é ímpar:\", r, \"sendo um número\", tipo, tipo_numero)\n",
    "\n",
    "elif operacaoEscolhida in m:\n",
    "    r = num1 * num2\n",
    "    \n",
    "    if r < 0:\n",
    "        tipo = \"negativo\"\n",
    "    else:\n",
    "        tipo = \"positivo\"\n",
    "    \n",
    "    parte_inteira = int(r)\n",
    "    if parte_inteira * 1.0 == r:\n",
    "        tipo_numero = \"inteiro\"\n",
    "    else:\n",
    "        tipo_numero = \"decimal\"\n",
    "\n",
    "    if r % 2 == 0:  \n",
    "        print(\"O resultado é par:\", r, \"sendo um número\", tipo, tipo_numero)\n",
    "    else:\n",
    "        print(\"O resultado é ímpar:\", r, \"sendo um número\", tipo, tipo_numero)\n",
    "\n",
    "elif operacaoEscolhida in d:\n",
    "    r = num1 / num2\n",
    "    \n",
    "    if r < 0:\n",
    "        tipo = \"negativo\"\n",
    "    else:\n",
    "        tipo = \"positivo\"\n",
    "    \n",
    "    parte_inteira = int(r)\n",
    "    if parte_inteira * 1.0 == r:\n",
    "        tipo_numero = \"inteiro\"\n",
    "    else:\n",
    "        tipo_numero = \"decimal\"\n",
    "    \n",
    "    if r % 2 == 0:  \n",
    "        print(\"O resultado é par:\", r, \"sendo um número\", tipo, tipo_numero)\n",
    "    else:\n",
    "        print(\"O resultado é ímpar:\", r, \"sendo um número\", tipo, tipo_numero)\n",
    "\n",
    "elif operacaoEscolhida in s:\n",
    "    r = num1 - num2\n",
    "\n",
    "    if r < 0:\n",
    "        tipo = \"negativo\"\n",
    "    else:\n",
    "        tipo = \"positivo\"\n",
    "    \n",
    "    parte_inteira = int(r)\n",
    "    if parte_inteira * 1.0 == r:\n",
    "        tipo_numero = \"inteiro\"\n",
    "    else:\n",
    "        tipo_numero = \"decimal\"\n",
    "\n",
    "    if r % 2 == 0:  \n",
    "        print(\"O resultado é par:\", r, \"sendo um número\", tipo, tipo_numero)\n",
    "    else:\n",
    "        print(\"O resultado é ímpar:\", r, \"sendo um número\", tipo, tipo_numero)\n",
    "\n",
    "elif operacaoEscolhida in e:\n",
    "    r = num1 ** num2\n",
    "    \n",
    "    if r < 0:\n",
    "        tipo = \"negativo\"\n",
    "    else:\n",
    "        tipo = \"positivo\"\n",
    "    \n",
    "    parte_inteira = int(r)\n",
    "    if parte_inteira * 1.0 == r:\n",
    "        tipo_numero = \"inteiro\"\n",
    "    else:\n",
    "        tipo_numero = \"decimal\"    \n",
    "    \n",
    "    if r % 2 == 0:  \n",
    "        print(\"O resultado é par:\", r, \"sendo um número\", tipo, tipo_numero)\n",
    "    else:\n",
    "        print(\"O resultado é ímpar:\", r, \"sendo um número\", tipo, tipo_numero)\n",
    "\n",
    "else:\n",
    "    print(\"Operação inválida!\")"
   ]
  },
  {
   "cell_type": "code",
   "execution_count": 64,
   "metadata": {},
   "outputs": [
    {
     "name": "stdout",
     "output_type": "stream",
     "text": [
      "18 anos? Aceito!\n"
     ]
    }
   ],
   "source": [
    "#Criando as variáveis necessárias.\n",
    "idade = int(input(\"Qual a sua idade?\"))\n",
    "#Criando as condições necesárias para a \"entrada\" do usuário\n",
    "if idade > 0 and idade < 150:\n",
    "    print(idade, \"anos? Aceito!\")\n",
    "else:\n",
    "    print(\"Idade não aceita ou não possível\")"
   ]
  },
  {
   "cell_type": "code",
   "execution_count": 65,
   "metadata": {},
   "outputs": [
    {
     "name": "stdout",
     "output_type": "stream",
     "text": [
      "A soma dos números é: 394.0\n",
      "A média dos números é: 78.8\n"
     ]
    }
   ],
   "source": [
    "#Criando as listas necessárias e setando a variável soma\n",
    "numeros = []\n",
    "soma = 0\n",
    "#Criando um contador e um while que enquanto o contador for menos que cinco ele vai pedindo um número, atribui ao contador a cada input +1\n",
    "contador = 0\n",
    "while contador < 5:\n",
    "    contador += 1\n",
    "    numero = float(input(\"Digite um número: \"))\n",
    "    numeros.append(numero)\n",
    "    soma += numero\n",
    "    \n",
    "\n",
    "media = soma / 5\n",
    "\n",
    "print(\"A soma dos números é:\", soma)\n",
    "print(\"A média dos números é:\", media)\n"
   ]
  },
  {
   "cell_type": "code",
   "execution_count": 66,
   "metadata": {},
   "outputs": [
    {
     "name": "stdout",
     "output_type": "stream",
     "text": [
      "Número é primo!\n"
     ]
    }
   ],
   "source": [
    "#Basicamente o código entra em loop até encontrar o divisor \n",
    "num = int(input(\"Digite um número: \"))\n",
    "#Cirando a condição de se o número for maior que um e iniciando a variavel divisorE como false para poder encontrar o algum divisor\n",
    "#quando encontrar, ele se tornará true\n",
    "if num > 1:\n",
    "    divisorE = False\n",
    "    divisor = 2\n",
    "    while divisor < num:\n",
    "        if num % divisor == 0:\n",
    "            divisorE = True\n",
    "            break\n",
    "        divisor += 1\n",
    "    if divisorE:\n",
    "        print(\"Número não é primo!\")\n",
    "    else:\n",
    "        print(\"Número é primo!\")\n",
    "else:\n",
    "    print(\"Número não é primo!\")\n"
   ]
  },
  {
   "cell_type": "code",
   "execution_count": 67,
   "metadata": {},
   "outputs": [
    {
     "name": "stdout",
     "output_type": "stream",
     "text": [
      "A média das temperaturas é: 34.0\n",
      "A menor temperatura é: 23.0\n",
      "A maior temperatura é: 45.0\n"
     ]
    }
   ],
   "source": [
    "#Criando as variáveis necessárias.\n",
    "temperaturas = []\n",
    "soma = 0\n",
    "contador = 0\n",
    "menor_temperatura = float('inf')\n",
    "maior_temperatura = float('-inf')\n",
    "#Ctrl C ctrl V do código anterior apenas adicionando a lógica pra menor e maior temperatura\n",
    "while contador < 5:\n",
    "    contador += 1\n",
    "    temperatura = float(input(\"Qual a temperatura? \"))\n",
    "    temperaturas.append(temperatura)\n",
    "    soma += temperatura\n",
    "    \n",
    "    if temperatura < menor_temperatura:\n",
    "        menor_temperatura = temperatura\n",
    "    \n",
    "    if temperatura > maior_temperatura:\n",
    "        maior_temperatura = temperatura\n",
    "\n",
    "media = soma / 5\n",
    "\n",
    "print(\"A média das temperaturas é:\", media)\n",
    "print(\"A menor temperatura é:\", menor_temperatura)\n",
    "print(\"A maior temperatura é:\", maior_temperatura)\n"
   ]
  },
  {
   "cell_type": "code",
   "execution_count": 68,
   "metadata": {},
   "outputs": [
    {
     "name": "stdout",
     "output_type": "stream",
     "text": [
      "Seu saldo é de 700.0 você tem direito a 40 porcento de crédito em cima do seu saldo. No caso 280.0\n"
     ]
    }
   ],
   "source": [
    "#Criando as variáveis necessárias.\n",
    "saldoMedio = float(input(\"Digite o seu saldo médio: \"))\n",
    "#criando condições, ao depender da tabela\n",
    "if saldoMedio > 0 and saldoMedio <= 200:\n",
    "    print(\"Infelizmente você não possui crédito\")\n",
    "elif saldoMedio >= 201 and saldoMedio <= 400:\n",
    "    valor = saldoMedio * 0.2\n",
    "    print(\"Seu saldo é de\", saldoMedio,\"você tem direito a 20 porcento de crédito em cima do seu saldo. No caso\", valor)\n",
    "elif saldoMedio > 401 and saldoMedio <= 600:\n",
    "    valor = saldoMedio * 0.3\n",
    "    print(\"Seu saldo é de\", saldoMedio,\"você tem direito a 30 porcento de crédito em cima do seu saldo. No caso\", valor)\n",
    "elif saldoMedio > 601:\n",
    "    valor = saldoMedio * 0.4\n",
    "    print(\"Seu saldo é de\", saldoMedio,\"você tem direito a 40 porcento de crédito em cima do seu saldo. No caso\", valor)\n",
    "    "
   ]
  },
  {
   "cell_type": "code",
   "execution_count": 69,
   "metadata": {},
   "outputs": [
    {
     "name": "stdout",
     "output_type": "stream",
     "text": [
      "Você se aposentará em 2071\n"
     ]
    }
   ],
   "source": [
    "#Criando as variáveis necessárias.\n",
    "idade = int(input(\"Digite sua idade: \"))\n",
    "#Criando o cálculo necessário \n",
    "anoAtual = 2024 \n",
    "anoAposentadoria = anoAtual + (65 - idade)\n",
    "print(\"Você se aposentará em\", anoAposentadoria)"
   ]
  },
  {
   "cell_type": "code",
   "execution_count": 70,
   "metadata": {},
   "outputs": [
    {
     "name": "stdout",
     "output_type": "stream",
     "text": [
      "Salário Bruto: R$ 4000.0\n",
      "Desconto do Imposto de Renda: R$ 900.0\n",
      "Desconto do Sindicato: R$ 120.0\n",
      "FGTS: R$ 440.0\n",
      "Salário Líquido: R$ 2980.0\n"
     ]
    }
   ],
   "source": [
    "#Pedindo ao usuário o valor da hora e a quantidade de horas trabalhadas\n",
    "valor_hora = float(input(\"Digite o valor da hora de trabalho: \"))\n",
    "horas_trabalhadas = float(input(\"Digite a quantidade de horas trabalhadas no mês: \"))\n",
    "#Calculando o salario bruto\n",
    "salario_bruto = valor_hora * horas_trabalhadas\n",
    "#calculando o desconto do imposto de Renda\n",
    "if salario_bruto <= 2112.00:\n",
    "    desconto_ir = 0\n",
    "elif salario_bruto <= 2826.65:\n",
    "    desconto_ir = salario_bruto * 0.075\n",
    "elif salario_bruto <= 3751.05:\n",
    "    desconto_ir = salario_bruto * 0.15\n",
    "elif salario_bruto <= 4664.68:\n",
    "    desconto_ir = salario_bruto * 0.225\n",
    "else:\n",
    "    desconto_ir = salario_bruto * 0.275\n",
    "#calculando os descontos\n",
    "desconto_sindicato = salario_bruto * 0.03\n",
    "desconto_total = desconto_ir + desconto_sindicato\n",
    "#calculando o FGTS\n",
    "fgts = salario_bruto * 0.11\n",
    "#calculando o salário líquido\n",
    "salario_liquido = salario_bruto - desconto_total\n",
    "print(\"Salário Bruto: R$\", salario_bruto)\n",
    "print(\"Desconto do Imposto de Renda: R$\", desconto_ir)\n",
    "print(\"Desconto do Sindicato: R$\", desconto_sindicato)\n",
    "print(\"FGTS: R$\", fgts)\n",
    "print(\"Salário Líquido: R$\", salario_liquido)"
   ]
  }
 ],
 "metadata": {
  "kernelspec": {
   "display_name": "Python 3",
   "language": "python",
   "name": "python3"
  },
  "language_info": {
   "codemirror_mode": {
    "name": "ipython",
    "version": 3
   },
   "file_extension": ".py",
   "mimetype": "text/x-python",
   "name": "python",
   "nbconvert_exporter": "python",
   "pygments_lexer": "ipython3",
   "version": "3.11.9"
  }
 },
 "nbformat": 4,
 "nbformat_minor": 2
}
