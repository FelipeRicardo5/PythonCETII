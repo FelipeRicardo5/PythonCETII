{
 "cells": [
  {
   "cell_type": "code",
   "execution_count": 2,
   "metadata": {},
   "outputs": [],
   "source": [
    "def addnum(n1, n2):\n",
    "    print(\"O primeiro número é\", n1)\n",
    "    print(\"O segundo número é\", n2)\n",
    "    print(\"A soma dos números é\", n1+n2)"
   ]
  },
  {
   "cell_type": "code",
   "execution_count": 3,
   "metadata": {},
   "outputs": [
    {
     "name": "stdout",
     "output_type": "stream",
     "text": [
      "O primeiro número é 2\n",
      "O segundo número é 3\n",
      "A soma dos números é 5\n"
     ]
    }
   ],
   "source": [
    "addnum(2, 3)"
   ]
  },
  {
   "cell_type": "code",
   "execution_count": 4,
   "metadata": {},
   "outputs": [
    {
     "name": "stdout",
     "output_type": "stream",
     "text": [
      "O primeiro número é 3\n",
      "O segundo número é 4\n",
      "A soma dos números é 7\n"
     ]
    }
   ],
   "source": [
    "addnum(3, 4)"
   ]
  },
  {
   "cell_type": "code",
   "execution_count": 5,
   "metadata": {},
   "outputs": [
    {
     "name": "stdout",
     "output_type": "stream",
     "text": [
      "Variável da função Multiplica:  20\n",
      "10\n"
     ]
    }
   ],
   "source": [
    "varGlobal = 10 \n",
    "def multiplicacao(num1, num2):\n",
    "    varGlobal = (num1 * num2)\n",
    "    print(\"Variável da função Multiplica: \", varGlobal)\n",
    "    \n",
    "multiplicacao(5,4)\n",
    "print(varGlobal)"
   ]
  },
  {
   "cell_type": "code",
   "execution_count": 6,
   "metadata": {},
   "outputs": [],
   "source": [
    "def funcaoLeitura ():\n",
    "    for num in range(5):\n",
    "        print(\"Numero\", num)"
   ]
  },
  {
   "cell_type": "code",
   "execution_count": 7,
   "metadata": {},
   "outputs": [],
   "source": [
    "def separarTexto(texto):\n",
    "    return texto.split()"
   ]
  },
  {
   "cell_type": "code",
   "execution_count": 8,
   "metadata": {},
   "outputs": [
    {
     "data": {
      "text/plain": [
       "['Cibele', 'Maria']"
      ]
     },
     "execution_count": 8,
     "metadata": {},
     "output_type": "execute_result"
    }
   ],
   "source": [
    "separarTexto(\"Cibele Maria\")"
   ]
  },
  {
   "cell_type": "code",
   "execution_count": 9,
   "metadata": {},
   "outputs": [],
   "source": [
    "def variosParametros(*parametros):\n",
    "    for n, item in enumerate(parametros):\n",
    "        print(\"Parametro\", n, item)\n",
    "    return;"
   ]
  },
  {
   "cell_type": "code",
   "execution_count": 10,
   "metadata": {},
   "outputs": [
    {
     "name": "stdout",
     "output_type": "stream",
     "text": [
      "Parametro 0 Cibele\n",
      "Parametro 1 Suely\n",
      "Parametro 2 Giggio\n",
      "Parametro 3 Madá\n",
      "Parametro 4 Luquinhas\n"
     ]
    }
   ],
   "source": [
    "variosParametros(\"Cibele\", \"Suely\", \"Giggio\", \"Madá\", \"Luquinhas\")"
   ]
  },
  {
   "cell_type": "code",
   "execution_count": 11,
   "metadata": {},
   "outputs": [],
   "source": [
    "def soma (n1, n2):\n",
    "    return n1+n2\n",
    "\n",
    "def multiplicacao (n1, n2):\n",
    "    return n1*n2\n",
    "\n",
    "def subtracao (n1, n2):\n",
    "    return n1-n2\n",
    "\n",
    "def divisao (n1, n2):\n",
    "    return n1/n2\n"
   ]
  },
  {
   "cell_type": "code",
   "execution_count": 13,
   "metadata": {},
   "outputs": [
    {
     "name": "stdout",
     "output_type": "stream",
     "text": [
      "+===================+\n",
      "| MENU DE OPERAÇÕES |\n",
      "|  0 - somar        |\n",
      "|  1 - subtrair     |\n",
      "|  2 - multiplicar  |\n",
      "|  3 - dividir      |\n",
      "|  4 - sair         |\n",
      "+===================+\n",
      "O resultado da divisão é: 250.0\n"
     ]
    }
   ],
   "source": [
    "while True:\n",
    "    print(\"+===================+\")\n",
    "    print(\"| MENU DE OPERAÇÕES |\")\n",
    "    print(\"|  0 - somar        |\")\n",
    "    print(\"|  1 - subtrair     |\")\n",
    "    print(\"|  2 - multiplicar  |\")\n",
    "    print(\"|  3 - dividir      |\")\n",
    "    print(\"|  4 - sair         |\")\n",
    "    print(\"+===================+\")\n",
    "    \n",
    "    op = int(input())\n",
    "    if op==4:\n",
    "        break\n",
    "    n1 = int(input(\"Primeiro número:\"))\n",
    "    n2 = int(input(\"Segundo número:\"))\n",
    "\n",
    "    if op==0:\n",
    "        print(\"O resultado da soma é:\", soma (n1, n2))\n",
    "        break\n",
    "    elif op==1:  \n",
    "        print(\"O resultado da subtração é:\", subtracao (n1, n2))\n",
    "        break\n",
    "    elif op==2:  \n",
    "        print(\"O resultado da divisão é:\", divisao (n1, n2))\n",
    "        break\n",
    "    elif op==3:  \n",
    "        print(\"O resultado da multiplcação é:\", multiplicacao (n1, n2))\n",
    "        break\n",
    "    else:\n",
    "        print(\"Código inválido\")\n",
    "        break\n"
   ]
  }
 ],
 "metadata": {
  "kernelspec": {
   "display_name": "Python 3",
   "language": "python",
   "name": "python3"
  },
  "language_info": {
   "codemirror_mode": {
    "name": "ipython",
    "version": 3
   },
   "file_extension": ".py",
   "mimetype": "text/x-python",
   "name": "python",
   "nbconvert_exporter": "python",
   "pygments_lexer": "ipython3",
   "version": "3.11.9"
  }
 },
 "nbformat": 4,
 "nbformat_minor": 2
}
